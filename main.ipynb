{
 "metadata": {
  "language_info": {
   "codemirror_mode": {
    "name": "ipython",
    "version": 3
   },
   "file_extension": ".py",
   "mimetype": "text/x-python",
   "name": "python",
   "nbconvert_exporter": "python",
   "pygments_lexer": "ipython3",
   "version": "3.8.5-final"
  },
  "orig_nbformat": 2,
  "kernelspec": {
   "name": "python_defaultSpec_1598191552913",
   "display_name": "Python 3.8.5 32-bit"
  }
 },
 "nbformat": 4,
 "nbformat_minor": 2,
 "cells": [
  {
   "cell_type": "code",
   "execution_count": 1,
   "metadata": {},
   "outputs": [],
   "source": [
    "import pandas as pd"
   ]
  },
  {
   "cell_type": "code",
   "execution_count": 2,
   "metadata": {},
   "outputs": [],
   "source": [
    "data = pd.read_excel(\"d:/Programming/Python/Projects/Stock-Screener/NIFTY25JUN2010000PE.xlsx\", parse_dates=[['Date', 'Time']]) "
   ]
  },
  {
   "cell_type": "code",
   "execution_count": 3,
   "metadata": {},
   "outputs": [],
   "source": [
    "#convert df index to DataTimeIndex\n",
    "data.index = pd.to_datetime(data['Date_Time'] )"
   ]
  },
  {
   "cell_type": "code",
   "execution_count": 4,
   "metadata": {},
   "outputs": [
    {
     "output_type": "execute_result",
     "data": {
      "text/plain": "Date_Time    0\nTicker       0\nOpen         0\nHigh         0\nLow          0\nClose        0\nVolume       0\ndtype: int64"
     },
     "metadata": {},
     "execution_count": 4
    }
   ],
   "source": [
    "data.isnull().sum()"
   ]
  },
  {
   "cell_type": "code",
   "execution_count": 5,
   "metadata": {},
   "outputs": [
    {
     "output_type": "execute_result",
     "data": {
      "text/plain": "                              Date_Time               Ticker   Open   High   \\\nDate_Time                                                                     \n2020-05-29 09:15:00 2020-05-29 09:15:00  NIFTY25JUN2010000PE  653.15  662.1   \n2020-05-29 09:16:00 2020-05-29 09:16:00  NIFTY25JUN2010000PE  662.10  662.1   \n2020-05-29 09:17:00 2020-05-29 09:17:00  NIFTY25JUN2010000PE  650.00  656.0   \n2020-05-29 09:18:00 2020-05-29 09:18:00  NIFTY25JUN2010000PE  650.00  650.0   \n2020-05-29 09:19:00 2020-05-29 09:19:00  NIFTY25JUN2010000PE  645.50  645.5   \n\n                       Low   Close   Volume  \nDate_Time                                    \n2020-05-29 09:15:00  649.90   662.1    1950  \n2020-05-29 09:16:00  643.35   650.0    3825  \n2020-05-29 09:17:00  650.00   650.0     450  \n2020-05-29 09:18:00  640.00   645.5    1275  \n2020-05-29 09:19:00  645.00   645.0     150  ",
      "text/html": "<div>\n<style scoped>\n    .dataframe tbody tr th:only-of-type {\n        vertical-align: middle;\n    }\n\n    .dataframe tbody tr th {\n        vertical-align: top;\n    }\n\n    .dataframe thead th {\n        text-align: right;\n    }\n</style>\n<table border=\"1\" class=\"dataframe\">\n  <thead>\n    <tr style=\"text-align: right;\">\n      <th></th>\n      <th>Date_Time</th>\n      <th>Ticker</th>\n      <th>Open</th>\n      <th>High</th>\n      <th>Low</th>\n      <th>Close</th>\n      <th>Volume</th>\n    </tr>\n    <tr>\n      <th>Date_Time</th>\n      <th></th>\n      <th></th>\n      <th></th>\n      <th></th>\n      <th></th>\n      <th></th>\n      <th></th>\n    </tr>\n  </thead>\n  <tbody>\n    <tr>\n      <th>2020-05-29 09:15:00</th>\n      <td>2020-05-29 09:15:00</td>\n      <td>NIFTY25JUN2010000PE</td>\n      <td>653.15</td>\n      <td>662.1</td>\n      <td>649.90</td>\n      <td>662.1</td>\n      <td>1950</td>\n    </tr>\n    <tr>\n      <th>2020-05-29 09:16:00</th>\n      <td>2020-05-29 09:16:00</td>\n      <td>NIFTY25JUN2010000PE</td>\n      <td>662.10</td>\n      <td>662.1</td>\n      <td>643.35</td>\n      <td>650.0</td>\n      <td>3825</td>\n    </tr>\n    <tr>\n      <th>2020-05-29 09:17:00</th>\n      <td>2020-05-29 09:17:00</td>\n      <td>NIFTY25JUN2010000PE</td>\n      <td>650.00</td>\n      <td>656.0</td>\n      <td>650.00</td>\n      <td>650.0</td>\n      <td>450</td>\n    </tr>\n    <tr>\n      <th>2020-05-29 09:18:00</th>\n      <td>2020-05-29 09:18:00</td>\n      <td>NIFTY25JUN2010000PE</td>\n      <td>650.00</td>\n      <td>650.0</td>\n      <td>640.00</td>\n      <td>645.5</td>\n      <td>1275</td>\n    </tr>\n    <tr>\n      <th>2020-05-29 09:19:00</th>\n      <td>2020-05-29 09:19:00</td>\n      <td>NIFTY25JUN2010000PE</td>\n      <td>645.50</td>\n      <td>645.5</td>\n      <td>645.00</td>\n      <td>645.0</td>\n      <td>150</td>\n    </tr>\n  </tbody>\n</table>\n</div>"
     },
     "metadata": {},
     "execution_count": 5
    }
   ],
   "source": [
    "data.head()"
   ]
  },
  {
   "cell_type": "code",
   "execution_count": 6,
   "metadata": {},
   "outputs": [],
   "source": [
    "#downsample and aggregate\n",
    "Resampled_Data = data.resample('15T').mean()"
   ]
  },
  {
   "cell_type": "code",
   "execution_count": 7,
   "metadata": {},
   "outputs": [
    {
     "output_type": "execute_result",
     "data": {
      "text/plain": "                          Open        High         Low       Close   \\\nDate_Time                                                             \n2020-05-29 09:15:00  650.996667  655.490000  647.703333  652.043333   \n2020-05-29 09:30:00  673.543333  676.133333  671.226667  673.313333   \n2020-05-29 09:45:00  671.460714  674.114286  668.564286  671.692857   \n2020-05-29 10:00:00  651.678571  653.628571  647.778571  650.142857   \n2020-05-29 10:15:00  647.283333  649.143333  644.040000  646.660000   \n2020-05-29 10:30:00  631.283333  633.176667  627.796667  630.326667   \n2020-05-29 10:45:00  629.263333  631.970000  627.036667  629.936667   \n2020-05-29 11:00:00  625.988462  627.561538  623.019231  624.876923   \n2020-05-29 11:15:00  622.116667  624.055556  620.722222  622.122222   \n2020-05-29 11:30:00  619.500000  622.345000  617.265000  620.405000   \n2020-05-29 11:45:00  641.777273  644.786364  640.127273  643.363636   \n2020-05-29 12:00:00  656.663636  658.968182  654.972727  656.800000   \n2020-05-29 12:15:00  646.311111  648.177778  644.333333  646.311111   \n2020-05-29 12:30:00  649.336364  651.222727  648.240909  649.700000   \n2020-05-29 12:45:00  645.600000  646.112500  642.237500  642.681250   \n2020-05-29 13:00:00  633.714286  637.935714  632.021429  636.242857   \n2020-05-29 13:15:00  645.908333  647.233333  643.350000  644.700000   \n2020-05-29 13:30:00  634.331250  636.331250  631.725000  633.018750   \n2020-05-29 13:45:00  628.738462  630.573077  626.603846  629.007692   \n2020-05-29 14:00:00  611.957143  613.550000  607.960714  609.664286   \n2020-05-29 14:15:00  610.670833  614.704167  608.775000  612.983333   \n2020-05-29 14:30:00  617.207692  618.465385  614.034615  615.603846   \n2020-05-29 14:45:00  604.023077  605.280769  601.550000  603.438462   \n2020-05-29 15:00:00  584.370000  585.930000  580.926667  582.993333   \n2020-05-29 15:15:00  586.256667  588.373333  584.990000  587.336667   \n2020-05-29 15:30:00         NaN         NaN         NaN         NaN   \n2020-05-29 15:45:00         NaN         NaN         NaN         NaN   \n2020-05-29 16:00:00         NaN         NaN         NaN         NaN   \n2020-05-29 16:15:00         NaN         NaN         NaN         NaN   \n2020-05-29 16:30:00         NaN         NaN         NaN         NaN   \n2020-05-29 16:45:00         NaN         NaN         NaN         NaN   \n2020-05-29 17:00:00         NaN         NaN         NaN         NaN   \n2020-05-29 17:15:00         NaN         NaN         NaN         NaN   \n2020-05-29 17:30:00         NaN         NaN         NaN         NaN   \n2020-05-29 17:45:00         NaN         NaN         NaN         NaN   \n2020-05-29 18:00:00         NaN         NaN         NaN         NaN   \n2020-05-29 18:15:00         NaN         NaN         NaN         NaN   \n2020-05-29 18:30:00         NaN         NaN         NaN         NaN   \n2020-05-29 18:45:00         NaN         NaN         NaN         NaN   \n2020-05-29 19:00:00         NaN         NaN         NaN         NaN   \n\n                          Volume  \nDate_Time                         \n2020-05-29 09:15:00   905.000000  \n2020-05-29 09:30:00   365.000000  \n2020-05-29 09:45:00   862.500000  \n2020-05-29 10:00:00  1489.285714  \n2020-05-29 10:15:00  1250.000000  \n2020-05-29 10:30:00  1180.000000  \n2020-05-29 10:45:00   615.000000  \n2020-05-29 11:00:00   675.000000  \n2020-05-29 11:15:00   316.666667  \n2020-05-29 11:30:00   495.000000  \n2020-05-29 11:45:00   334.090909  \n2020-05-29 12:00:00   340.909091  \n2020-05-29 12:15:00   108.333333  \n2020-05-29 12:30:00   204.545455  \n2020-05-29 12:45:00   150.000000  \n2020-05-29 13:00:00   492.857143  \n2020-05-29 13:15:00   150.000000  \n2020-05-29 13:30:00   225.000000  \n2020-05-29 13:45:00   415.384615  \n2020-05-29 14:00:00   567.857143  \n2020-05-29 14:15:00   618.750000  \n2020-05-29 14:30:00   375.000000  \n2020-05-29 14:45:00   900.000000  \n2020-05-29 15:00:00  1240.000000  \n2020-05-29 15:15:00  1785.000000  \n2020-05-29 15:30:00          NaN  \n2020-05-29 15:45:00          NaN  \n2020-05-29 16:00:00          NaN  \n2020-05-29 16:15:00          NaN  \n2020-05-29 16:30:00          NaN  \n2020-05-29 16:45:00          NaN  \n2020-05-29 17:00:00          NaN  \n2020-05-29 17:15:00          NaN  \n2020-05-29 17:30:00          NaN  \n2020-05-29 17:45:00          NaN  \n2020-05-29 18:00:00          NaN  \n2020-05-29 18:15:00          NaN  \n2020-05-29 18:30:00          NaN  \n2020-05-29 18:45:00          NaN  \n2020-05-29 19:00:00          NaN  ",
      "text/html": "<div>\n<style scoped>\n    .dataframe tbody tr th:only-of-type {\n        vertical-align: middle;\n    }\n\n    .dataframe tbody tr th {\n        vertical-align: top;\n    }\n\n    .dataframe thead th {\n        text-align: right;\n    }\n</style>\n<table border=\"1\" class=\"dataframe\">\n  <thead>\n    <tr style=\"text-align: right;\">\n      <th></th>\n      <th>Open</th>\n      <th>High</th>\n      <th>Low</th>\n      <th>Close</th>\n      <th>Volume</th>\n    </tr>\n    <tr>\n      <th>Date_Time</th>\n      <th></th>\n      <th></th>\n      <th></th>\n      <th></th>\n      <th></th>\n    </tr>\n  </thead>\n  <tbody>\n    <tr>\n      <th>2020-05-29 09:15:00</th>\n      <td>650.996667</td>\n      <td>655.490000</td>\n      <td>647.703333</td>\n      <td>652.043333</td>\n      <td>905.000000</td>\n    </tr>\n    <tr>\n      <th>2020-05-29 09:30:00</th>\n      <td>673.543333</td>\n      <td>676.133333</td>\n      <td>671.226667</td>\n      <td>673.313333</td>\n      <td>365.000000</td>\n    </tr>\n    <tr>\n      <th>2020-05-29 09:45:00</th>\n      <td>671.460714</td>\n      <td>674.114286</td>\n      <td>668.564286</td>\n      <td>671.692857</td>\n      <td>862.500000</td>\n    </tr>\n    <tr>\n      <th>2020-05-29 10:00:00</th>\n      <td>651.678571</td>\n      <td>653.628571</td>\n      <td>647.778571</td>\n      <td>650.142857</td>\n      <td>1489.285714</td>\n    </tr>\n    <tr>\n      <th>2020-05-29 10:15:00</th>\n      <td>647.283333</td>\n      <td>649.143333</td>\n      <td>644.040000</td>\n      <td>646.660000</td>\n      <td>1250.000000</td>\n    </tr>\n    <tr>\n      <th>2020-05-29 10:30:00</th>\n      <td>631.283333</td>\n      <td>633.176667</td>\n      <td>627.796667</td>\n      <td>630.326667</td>\n      <td>1180.000000</td>\n    </tr>\n    <tr>\n      <th>2020-05-29 10:45:00</th>\n      <td>629.263333</td>\n      <td>631.970000</td>\n      <td>627.036667</td>\n      <td>629.936667</td>\n      <td>615.000000</td>\n    </tr>\n    <tr>\n      <th>2020-05-29 11:00:00</th>\n      <td>625.988462</td>\n      <td>627.561538</td>\n      <td>623.019231</td>\n      <td>624.876923</td>\n      <td>675.000000</td>\n    </tr>\n    <tr>\n      <th>2020-05-29 11:15:00</th>\n      <td>622.116667</td>\n      <td>624.055556</td>\n      <td>620.722222</td>\n      <td>622.122222</td>\n      <td>316.666667</td>\n    </tr>\n    <tr>\n      <th>2020-05-29 11:30:00</th>\n      <td>619.500000</td>\n      <td>622.345000</td>\n      <td>617.265000</td>\n      <td>620.405000</td>\n      <td>495.000000</td>\n    </tr>\n    <tr>\n      <th>2020-05-29 11:45:00</th>\n      <td>641.777273</td>\n      <td>644.786364</td>\n      <td>640.127273</td>\n      <td>643.363636</td>\n      <td>334.090909</td>\n    </tr>\n    <tr>\n      <th>2020-05-29 12:00:00</th>\n      <td>656.663636</td>\n      <td>658.968182</td>\n      <td>654.972727</td>\n      <td>656.800000</td>\n      <td>340.909091</td>\n    </tr>\n    <tr>\n      <th>2020-05-29 12:15:00</th>\n      <td>646.311111</td>\n      <td>648.177778</td>\n      <td>644.333333</td>\n      <td>646.311111</td>\n      <td>108.333333</td>\n    </tr>\n    <tr>\n      <th>2020-05-29 12:30:00</th>\n      <td>649.336364</td>\n      <td>651.222727</td>\n      <td>648.240909</td>\n      <td>649.700000</td>\n      <td>204.545455</td>\n    </tr>\n    <tr>\n      <th>2020-05-29 12:45:00</th>\n      <td>645.600000</td>\n      <td>646.112500</td>\n      <td>642.237500</td>\n      <td>642.681250</td>\n      <td>150.000000</td>\n    </tr>\n    <tr>\n      <th>2020-05-29 13:00:00</th>\n      <td>633.714286</td>\n      <td>637.935714</td>\n      <td>632.021429</td>\n      <td>636.242857</td>\n      <td>492.857143</td>\n    </tr>\n    <tr>\n      <th>2020-05-29 13:15:00</th>\n      <td>645.908333</td>\n      <td>647.233333</td>\n      <td>643.350000</td>\n      <td>644.700000</td>\n      <td>150.000000</td>\n    </tr>\n    <tr>\n      <th>2020-05-29 13:30:00</th>\n      <td>634.331250</td>\n      <td>636.331250</td>\n      <td>631.725000</td>\n      <td>633.018750</td>\n      <td>225.000000</td>\n    </tr>\n    <tr>\n      <th>2020-05-29 13:45:00</th>\n      <td>628.738462</td>\n      <td>630.573077</td>\n      <td>626.603846</td>\n      <td>629.007692</td>\n      <td>415.384615</td>\n    </tr>\n    <tr>\n      <th>2020-05-29 14:00:00</th>\n      <td>611.957143</td>\n      <td>613.550000</td>\n      <td>607.960714</td>\n      <td>609.664286</td>\n      <td>567.857143</td>\n    </tr>\n    <tr>\n      <th>2020-05-29 14:15:00</th>\n      <td>610.670833</td>\n      <td>614.704167</td>\n      <td>608.775000</td>\n      <td>612.983333</td>\n      <td>618.750000</td>\n    </tr>\n    <tr>\n      <th>2020-05-29 14:30:00</th>\n      <td>617.207692</td>\n      <td>618.465385</td>\n      <td>614.034615</td>\n      <td>615.603846</td>\n      <td>375.000000</td>\n    </tr>\n    <tr>\n      <th>2020-05-29 14:45:00</th>\n      <td>604.023077</td>\n      <td>605.280769</td>\n      <td>601.550000</td>\n      <td>603.438462</td>\n      <td>900.000000</td>\n    </tr>\n    <tr>\n      <th>2020-05-29 15:00:00</th>\n      <td>584.370000</td>\n      <td>585.930000</td>\n      <td>580.926667</td>\n      <td>582.993333</td>\n      <td>1240.000000</td>\n    </tr>\n    <tr>\n      <th>2020-05-29 15:15:00</th>\n      <td>586.256667</td>\n      <td>588.373333</td>\n      <td>584.990000</td>\n      <td>587.336667</td>\n      <td>1785.000000</td>\n    </tr>\n    <tr>\n      <th>2020-05-29 15:30:00</th>\n      <td>NaN</td>\n      <td>NaN</td>\n      <td>NaN</td>\n      <td>NaN</td>\n      <td>NaN</td>\n    </tr>\n    <tr>\n      <th>2020-05-29 15:45:00</th>\n      <td>NaN</td>\n      <td>NaN</td>\n      <td>NaN</td>\n      <td>NaN</td>\n      <td>NaN</td>\n    </tr>\n    <tr>\n      <th>2020-05-29 16:00:00</th>\n      <td>NaN</td>\n      <td>NaN</td>\n      <td>NaN</td>\n      <td>NaN</td>\n      <td>NaN</td>\n    </tr>\n    <tr>\n      <th>2020-05-29 16:15:00</th>\n      <td>NaN</td>\n      <td>NaN</td>\n      <td>NaN</td>\n      <td>NaN</td>\n      <td>NaN</td>\n    </tr>\n    <tr>\n      <th>2020-05-29 16:30:00</th>\n      <td>NaN</td>\n      <td>NaN</td>\n      <td>NaN</td>\n      <td>NaN</td>\n      <td>NaN</td>\n    </tr>\n    <tr>\n      <th>2020-05-29 16:45:00</th>\n      <td>NaN</td>\n      <td>NaN</td>\n      <td>NaN</td>\n      <td>NaN</td>\n      <td>NaN</td>\n    </tr>\n    <tr>\n      <th>2020-05-29 17:00:00</th>\n      <td>NaN</td>\n      <td>NaN</td>\n      <td>NaN</td>\n      <td>NaN</td>\n      <td>NaN</td>\n    </tr>\n    <tr>\n      <th>2020-05-29 17:15:00</th>\n      <td>NaN</td>\n      <td>NaN</td>\n      <td>NaN</td>\n      <td>NaN</td>\n      <td>NaN</td>\n    </tr>\n    <tr>\n      <th>2020-05-29 17:30:00</th>\n      <td>NaN</td>\n      <td>NaN</td>\n      <td>NaN</td>\n      <td>NaN</td>\n      <td>NaN</td>\n    </tr>\n    <tr>\n      <th>2020-05-29 17:45:00</th>\n      <td>NaN</td>\n      <td>NaN</td>\n      <td>NaN</td>\n      <td>NaN</td>\n      <td>NaN</td>\n    </tr>\n    <tr>\n      <th>2020-05-29 18:00:00</th>\n      <td>NaN</td>\n      <td>NaN</td>\n      <td>NaN</td>\n      <td>NaN</td>\n      <td>NaN</td>\n    </tr>\n    <tr>\n      <th>2020-05-29 18:15:00</th>\n      <td>NaN</td>\n      <td>NaN</td>\n      <td>NaN</td>\n      <td>NaN</td>\n      <td>NaN</td>\n    </tr>\n    <tr>\n      <th>2020-05-29 18:30:00</th>\n      <td>NaN</td>\n      <td>NaN</td>\n      <td>NaN</td>\n      <td>NaN</td>\n      <td>NaN</td>\n    </tr>\n    <tr>\n      <th>2020-05-29 18:45:00</th>\n      <td>NaN</td>\n      <td>NaN</td>\n      <td>NaN</td>\n      <td>NaN</td>\n      <td>NaN</td>\n    </tr>\n    <tr>\n      <th>2020-05-29 19:00:00</th>\n      <td>NaN</td>\n      <td>NaN</td>\n      <td>NaN</td>\n      <td>NaN</td>\n      <td>NaN</td>\n    </tr>\n  </tbody>\n</table>\n</div>"
     },
     "metadata": {},
     "execution_count": 7
    }
   ],
   "source": [
    "Resampled_Data.head(40)"
   ]
  },
  {
   "cell_type": "markdown",
   "metadata": {},
   "source": [
    "### Resampling Successful!!\n",
    "Getting NaN values for the rows missing in default sheet.\n"
   ]
  },
  {
   "cell_type": "code",
   "execution_count": null,
   "metadata": {},
   "outputs": [],
   "source": []
  }
 ]
}